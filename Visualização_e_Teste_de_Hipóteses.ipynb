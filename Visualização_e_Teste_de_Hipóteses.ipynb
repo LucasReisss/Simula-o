{
  "nbformat": 4,
  "nbformat_minor": 0,
  "metadata": {
    "colab": {
      "provenance": []
    },
    "kernelspec": {
      "name": "python3",
      "display_name": "Python 3"
    },
    "language_info": {
      "name": "python"
    }
  },
  "cells": [
    {
      "cell_type": "markdown",
      "source": [
        "# Dado1"
      ],
      "metadata": {
        "id": "NfkgDQ042265"
      }
    },
    {
      "cell_type": "code",
      "execution_count": 1,
      "metadata": {
        "id": "YMyZu3KVXjst"
      },
      "outputs": [],
      "source": [
        "from os import sep\n",
        "import pandas as pd\n",
        "import random\n",
        "import numpy as np\n",
        "from google.colab import files"
      ]
    },
    {
      "cell_type": "code",
      "source": [
        "files.upload()"
      ],
      "metadata": {
        "colab": {
          "base_uri": "https://localhost:8080/",
          "height": 55
        },
        "id": "M9Eyzr20ZIi6",
        "outputId": "356465ae-cb44-4bce-873e-0ca5ce768740"
      },
      "execution_count": null,
      "outputs": [
        {
          "output_type": "display_data",
          "data": {
            "text/plain": [
              "<IPython.core.display.HTML object>"
            ],
            "text/html": [
              "\n",
              "     <input type=\"file\" id=\"files-0ff89096-ba87-42e5-8ce7-b8f2b9986dd3\" name=\"files[]\" multiple disabled\n",
              "        style=\"border:none\" />\n",
              "     <output id=\"result-0ff89096-ba87-42e5-8ce7-b8f2b9986dd3\">\n",
              "      Upload widget is only available when the cell has been executed in the\n",
              "      current browser session. Please rerun this cell to enable.\n",
              "      </output>\n",
              "      <script>// Copyright 2017 Google LLC\n",
              "//\n",
              "// Licensed under the Apache License, Version 2.0 (the \"License\");\n",
              "// you may not use this file except in compliance with the License.\n",
              "// You may obtain a copy of the License at\n",
              "//\n",
              "//      http://www.apache.org/licenses/LICENSE-2.0\n",
              "//\n",
              "// Unless required by applicable law or agreed to in writing, software\n",
              "// distributed under the License is distributed on an \"AS IS\" BASIS,\n",
              "// WITHOUT WARRANTIES OR CONDITIONS OF ANY KIND, either express or implied.\n",
              "// See the License for the specific language governing permissions and\n",
              "// limitations under the License.\n",
              "\n",
              "/**\n",
              " * @fileoverview Helpers for google.colab Python module.\n",
              " */\n",
              "(function(scope) {\n",
              "function span(text, styleAttributes = {}) {\n",
              "  const element = document.createElement('span');\n",
              "  element.textContent = text;\n",
              "  for (const key of Object.keys(styleAttributes)) {\n",
              "    element.style[key] = styleAttributes[key];\n",
              "  }\n",
              "  return element;\n",
              "}\n",
              "\n",
              "// Max number of bytes which will be uploaded at a time.\n",
              "const MAX_PAYLOAD_SIZE = 100 * 1024;\n",
              "\n",
              "function _uploadFiles(inputId, outputId) {\n",
              "  const steps = uploadFilesStep(inputId, outputId);\n",
              "  const outputElement = document.getElementById(outputId);\n",
              "  // Cache steps on the outputElement to make it available for the next call\n",
              "  // to uploadFilesContinue from Python.\n",
              "  outputElement.steps = steps;\n",
              "\n",
              "  return _uploadFilesContinue(outputId);\n",
              "}\n",
              "\n",
              "// This is roughly an async generator (not supported in the browser yet),\n",
              "// where there are multiple asynchronous steps and the Python side is going\n",
              "// to poll for completion of each step.\n",
              "// This uses a Promise to block the python side on completion of each step,\n",
              "// then passes the result of the previous step as the input to the next step.\n",
              "function _uploadFilesContinue(outputId) {\n",
              "  const outputElement = document.getElementById(outputId);\n",
              "  const steps = outputElement.steps;\n",
              "\n",
              "  const next = steps.next(outputElement.lastPromiseValue);\n",
              "  return Promise.resolve(next.value.promise).then((value) => {\n",
              "    // Cache the last promise value to make it available to the next\n",
              "    // step of the generator.\n",
              "    outputElement.lastPromiseValue = value;\n",
              "    return next.value.response;\n",
              "  });\n",
              "}\n",
              "\n",
              "/**\n",
              " * Generator function which is called between each async step of the upload\n",
              " * process.\n",
              " * @param {string} inputId Element ID of the input file picker element.\n",
              " * @param {string} outputId Element ID of the output display.\n",
              " * @return {!Iterable<!Object>} Iterable of next steps.\n",
              " */\n",
              "function* uploadFilesStep(inputId, outputId) {\n",
              "  const inputElement = document.getElementById(inputId);\n",
              "  inputElement.disabled = false;\n",
              "\n",
              "  const outputElement = document.getElementById(outputId);\n",
              "  outputElement.innerHTML = '';\n",
              "\n",
              "  const pickedPromise = new Promise((resolve) => {\n",
              "    inputElement.addEventListener('change', (e) => {\n",
              "      resolve(e.target.files);\n",
              "    });\n",
              "  });\n",
              "\n",
              "  const cancel = document.createElement('button');\n",
              "  inputElement.parentElement.appendChild(cancel);\n",
              "  cancel.textContent = 'Cancel upload';\n",
              "  const cancelPromise = new Promise((resolve) => {\n",
              "    cancel.onclick = () => {\n",
              "      resolve(null);\n",
              "    };\n",
              "  });\n",
              "\n",
              "  // Wait for the user to pick the files.\n",
              "  const files = yield {\n",
              "    promise: Promise.race([pickedPromise, cancelPromise]),\n",
              "    response: {\n",
              "      action: 'starting',\n",
              "    }\n",
              "  };\n",
              "\n",
              "  cancel.remove();\n",
              "\n",
              "  // Disable the input element since further picks are not allowed.\n",
              "  inputElement.disabled = true;\n",
              "\n",
              "  if (!files) {\n",
              "    return {\n",
              "      response: {\n",
              "        action: 'complete',\n",
              "      }\n",
              "    };\n",
              "  }\n",
              "\n",
              "  for (const file of files) {\n",
              "    const li = document.createElement('li');\n",
              "    li.append(span(file.name, {fontWeight: 'bold'}));\n",
              "    li.append(span(\n",
              "        `(${file.type || 'n/a'}) - ${file.size} bytes, ` +\n",
              "        `last modified: ${\n",
              "            file.lastModifiedDate ? file.lastModifiedDate.toLocaleDateString() :\n",
              "                                    'n/a'} - `));\n",
              "    const percent = span('0% done');\n",
              "    li.appendChild(percent);\n",
              "\n",
              "    outputElement.appendChild(li);\n",
              "\n",
              "    const fileDataPromise = new Promise((resolve) => {\n",
              "      const reader = new FileReader();\n",
              "      reader.onload = (e) => {\n",
              "        resolve(e.target.result);\n",
              "      };\n",
              "      reader.readAsArrayBuffer(file);\n",
              "    });\n",
              "    // Wait for the data to be ready.\n",
              "    let fileData = yield {\n",
              "      promise: fileDataPromise,\n",
              "      response: {\n",
              "        action: 'continue',\n",
              "      }\n",
              "    };\n",
              "\n",
              "    // Use a chunked sending to avoid message size limits. See b/62115660.\n",
              "    let position = 0;\n",
              "    do {\n",
              "      const length = Math.min(fileData.byteLength - position, MAX_PAYLOAD_SIZE);\n",
              "      const chunk = new Uint8Array(fileData, position, length);\n",
              "      position += length;\n",
              "\n",
              "      const base64 = btoa(String.fromCharCode.apply(null, chunk));\n",
              "      yield {\n",
              "        response: {\n",
              "          action: 'append',\n",
              "          file: file.name,\n",
              "          data: base64,\n",
              "        },\n",
              "      };\n",
              "\n",
              "      let percentDone = fileData.byteLength === 0 ?\n",
              "          100 :\n",
              "          Math.round((position / fileData.byteLength) * 100);\n",
              "      percent.textContent = `${percentDone}% done`;\n",
              "\n",
              "    } while (position < fileData.byteLength);\n",
              "  }\n",
              "\n",
              "  // All done.\n",
              "  yield {\n",
              "    response: {\n",
              "      action: 'complete',\n",
              "    }\n",
              "  };\n",
              "}\n",
              "\n",
              "scope.google = scope.google || {};\n",
              "scope.google.colab = scope.google.colab || {};\n",
              "scope.google.colab._files = {\n",
              "  _uploadFiles,\n",
              "  _uploadFilesContinue,\n",
              "};\n",
              "})(self);\n",
              "</script> "
            ]
          },
          "metadata": {}
        },
        {
          "output_type": "execute_result",
          "data": {
            "text/plain": [
              "{}"
            ]
          },
          "metadata": {},
          "execution_count": 4
        }
      ]
    },
    {
      "cell_type": "code",
      "source": [],
      "metadata": {
        "id": "crn3zrzoZNaC"
      },
      "execution_count": null,
      "outputs": []
    },
    {
      "cell_type": "code",
      "source": [
        "#Dado1\n",
        "filename_data1 = '/content/data1.csv'\n",
        "data1 = pd.read_csv(filename_data1)"
      ],
      "metadata": {
        "id": "05qJ_cTaYWcZ"
      },
      "execution_count": 2,
      "outputs": []
    },
    {
      "cell_type": "code",
      "source": [
        "#medidas de posição\n",
        "media = data1.mean()\n",
        "mediana = data1.median()\n",
        "moda = data1.mode()\n",
        "minino = data1.min()\n",
        "maximo = data1.max()\n",
        "print(\"média:\", str(media), \"\\n\",\n",
        "      \"mediana:\", str(mediana), \"\\n\",\n",
        "      \"moda:\", str(moda), \"\\n\",\n",
        "      \"minino:\", str(minino), \"\\n\",\n",
        "      \"maximo:\", str(maximo), \"\\n\"\n",
        ")"
      ],
      "metadata": {
        "colab": {
          "base_uri": "https://localhost:8080/"
        },
        "id": "tTV_HuLZaHU6",
        "outputId": "0fc1ef77-c459-44ce-9621-8ccda9778a4f"
      },
      "execution_count": 3,
      "outputs": [
        {
          "output_type": "stream",
          "name": "stdout",
          "text": [
            "média: valores    8.987255\n",
            "dtype: float64 \n",
            " mediana: valores    8.987193\n",
            "dtype: float64 \n",
            " moda:          valores\n",
            "0      -0.016023\n",
            "1       0.525653\n",
            "2       0.920446\n",
            "3       0.936869\n",
            "4       1.094549\n",
            "...          ...\n",
            "99995  17.465660\n",
            "99996  17.541291\n",
            "99997  17.549132\n",
            "99998  17.620575\n",
            "99999  18.264037\n",
            "\n",
            "[100000 rows x 1 columns] \n",
            " minino: valores   -0.016023\n",
            "dtype: float64 \n",
            " maximo: valores    18.264037\n",
            "dtype: float64 \n",
            "\n"
          ]
        }
      ]
    },
    {
      "cell_type": "code",
      "source": [
        "#medidas de dispensão\n",
        "desvio_padrao = data1.std()\n",
        "variancia = data1.var()\n",
        "print(\"desvio padrão:\", str(desvio_padrao), \"\\n\",\n",
        "      \"variancia:\", str(mediana), \"\\n\"\n",
        ")"
      ],
      "metadata": {
        "colab": {
          "base_uri": "https://localhost:8080/"
        },
        "id": "Jf32no3uamD0",
        "outputId": "6ba73952-c141-471d-d52c-482c5289a14d"
      },
      "execution_count": 4,
      "outputs": [
        {
          "output_type": "stream",
          "name": "stdout",
          "text": [
            "desvio padrão: valores    2.002652\n",
            "dtype: float64 \n",
            " variancia: valores    8.987193\n",
            "dtype: float64 \n",
            "\n"
          ]
        }
      ]
    },
    {
      "cell_type": "code",
      "source": [
        "#coeficiente de assimetria\n",
        "assimetria = data1.skew()\n",
        "print(assimetria)"
      ],
      "metadata": {
        "colab": {
          "base_uri": "https://localhost:8080/"
        },
        "id": "mTVG0O2va5KO",
        "outputId": "e869e1ff-5edb-475a-e607-1172bf40d00a"
      },
      "execution_count": 5,
      "outputs": [
        {
          "output_type": "stream",
          "name": "stdout",
          "text": [
            "valores    0.001163\n",
            "dtype: float64\n"
          ]
        }
      ]
    },
    {
      "cell_type": "code",
      "source": [
        "### Plots\n",
        "## Boxplot\n",
        "\n",
        "import seaborn as sns\n",
        "import matplotlib.pyplot as plt"
      ],
      "metadata": {
        "id": "ZB9TchBdd8f3"
      },
      "execution_count": 6,
      "outputs": []
    },
    {
      "cell_type": "code",
      "source": [
        "plt.rcParams['figure.figsize'] = [12, 12]\n",
        "\n",
        "sns.boxplot(y=data1[\"valores\"])"
      ],
      "metadata": {
        "colab": {
          "base_uri": "https://localhost:8080/",
          "height": 704
        },
        "id": "yYhQih6rd9GL",
        "outputId": "8583bfa5-a3e0-4aa1-8397-f3f685357cab"
      },
      "execution_count": 7,
      "outputs": [
        {
          "output_type": "execute_result",
          "data": {
            "text/plain": [
              "<AxesSubplot:ylabel='valores'>"
            ]
          },
          "metadata": {},
          "execution_count": 7
        },
        {
          "output_type": "display_data",
          "data": {
            "text/plain": [
              "<Figure size 864x864 with 1 Axes>"
            ],
            "image/png": "[encoded data removed]"
          },
          "metadata": {
            "needs_background": "light"
          }
        }
      ]
    },
    {
      "cell_type": "code",
      "source": [
        "## Histograma\n",
        "plt.hist(data1[\"valores\"], bins='auto',\n",
        "            alpha=0.7, rwidth=0.85)\n",
        "plt.grid(axis='y', alpha=0.75)\n",
        "plt.xlabel('Data1')\n",
        "plt.ylabel('Frequência')\n",
        "plt.title('Histograma dos valores dos dados 1')\n",
        "plt.show()"
      ],
      "metadata": {
        "colab": {
          "base_uri": "https://localhost:8080/",
          "height": 730
        },
        "id": "aHlxHdXUhGs3",
        "outputId": "1e3c0d2f-483d-46f8-ed15-dec69c7a7226"
      },
      "execution_count": 8,
      "outputs": [
        {
          "output_type": "display_data",
          "data": {
            "text/plain": [
              "<Figure size 864x864 with 1 Axes>"
            ],
            "image/png": "[encoded data removed]"
          },
          "metadata": {
            "needs_background": "light"
          }
        }
      ]
    },
    {
      "cell_type": "code",
      "source": [
        "sns.distplot(data1, hist=True, \n",
        "             bins=int(180/5), \n",
        "             color = 'darkblue')"
      ],
      "metadata": {
        "colab": {
          "base_uri": "https://localhost:8080/",
          "height": 772
        },
        "id": "nWbFgGkZhHXa",
        "outputId": "19ec5a92-0c2f-4e46-b354-2d8637dab18e"
      },
      "execution_count": 9,
      "outputs": [
        {
          "output_type": "stream",
          "name": "stderr",
          "text": [
            "/usr/local/lib/python3.9/dist-packages/seaborn/distributions.py:2619: FutureWarning: `distplot` is a deprecated function and will be removed in a future version. Please adapt your code to use either `displot` (a figure-level function with similar flexibility) or `histplot` (an axes-level function for histograms).\n",
            "  warnings.warn(msg, FutureWarning)\n"
          ]
        },
        {
          "output_type": "execute_result",
          "data": {
            "text/plain": [
              "<AxesSubplot:ylabel='Density'>"
            ]
          },
          "metadata": {},
          "execution_count": 9
        },
        {
          "output_type": "display_data",
          "data": {
            "text/plain": [
              "<Figure size 864x864 with 1 Axes>"
            ],
            "image/png": "[encoded data removed]"
          },
          "metadata": {
            "needs_background": "light"
          }
        }
      ]
    },
    {
      "cell_type": "code",
      "source": [
        "# Remover outlier\n",
        "q = data1[\"valores\"].quantile(0.99)\n",
        "\n",
        "data1_sem_outlier = data1[data1[\"valores\"] < q]\n",
        "data1[data1['valores']==728]\n",
        "data1_sem_outlier[data1_sem_outlier['valores']==728]"
      ],
      "metadata": {
        "colab": {
          "base_uri": "https://localhost:8080/",
          "height": 49
        },
        "id": "WsGiu2ILk7RL",
        "outputId": "c70df56b-8640-474d-d6c6-9ded580b57e8"
      },
      "execution_count": 10,
      "outputs": [
        {
          "output_type": "execute_result",
          "data": {
            "text/plain": [
              "Empty DataFrame\n",
              "Columns: [valores]\n",
              "Index: []"
            ],
            "text/html": [
              "\n",
              "  <div id=\"df-5a16ee33-dfd5-46b0-8508-7c3e9ea5f3ec\">\n",
              "    <div class=\"colab-df-container\">\n",
              "      <div>\n",
              "<style scoped>\n",
              "    .dataframe tbody tr th:only-of-type {\n",
              "        vertical-align: middle;\n",
              "    }\n",
              "\n",
              "    .dataframe tbody tr th {\n",
              "        vertical-align: top;\n",
              "    }\n",
              "\n",
              "    .dataframe thead th {\n",
              "        text-align: right;\n",
              "    }\n",
              "</style>\n",
              "<table border=\"1\" class=\"dataframe\">\n",
              "  <thead>\n",
              "    <tr style=\"text-align: right;\">\n",
              "      <th></th>\n",
              "      <th>valores</th>\n",
              "    </tr>\n",
              "  </thead>\n",
              "  <tbody>\n",
              "  </tbody>\n",
              "</table>\n",
              "</div>\n",
              "      <button class=\"colab-df-convert\" onclick=\"convertToInteractive('df-5a16ee33-dfd5-46b0-8508-7c3e9ea5f3ec')\"\n",
              "              title=\"Convert this dataframe to an interactive table.\"\n",
              "              style=\"display:none;\">\n",
              "        \n",
              "  <svg xmlns=\"http://www.w3.org/2000/svg\" height=\"24px\"viewBox=\"0 0 24 24\"\n",
              "       width=\"24px\">\n",
              "    <path d=\"M0 0h24v24H0V0z\" fill=\"none\"/>\n",
              "    <path d=\"M18.56 5.44l.94 2.06.94-2.06 2.06-.94-2.06-.94-.94-2.06-.94 2.06-2.06.94zm-11 1L8.5 8.5l.94-2.06 2.06-.94-2.06-.94L8.5 2.5l-.94 2.06-2.06.94zm10 10l.94 2.06.94-2.06 2.06-.94-2.06-.94-.94-2.06-.94 2.06-2.06.94z\"/><path d=\"M17.41 7.96l-1.37-1.37c-.4-.4-.92-.59-1.43-.59-.52 0-1.04.2-1.43.59L10.3 9.45l-7.72 7.72c-.78.78-.78 2.05 0 2.83L4 21.41c.39.39.9.59 1.41.59.51 0 1.02-.2 1.41-.59l7.78-7.78 2.81-2.81c.8-.78.8-2.07 0-2.86zM5.41 20L4 18.59l7.72-7.72 1.47 1.35L5.41 20z\"/>\n",
              "  </svg>\n",
              "      </button>\n",
              "      \n",
              "  <style>\n",
              "    .colab-df-container {\n",
              "      display:flex;\n",
              "      flex-wrap:wrap;\n",
              "      gap: 12px;\n",
              "    }\n",
              "\n",
              "    .colab-df-convert {\n",
              "      background-color: #E8F0FE;\n",
              "      border: none;\n",
              "      border-radius: 50%;\n",
              "      cursor: pointer;\n",
              "      display: none;\n",
              "      fill: #1967D2;\n",
              "      height: 32px;\n",
              "      padding: 0 0 0 0;\n",
              "      width: 32px;\n",
              "    }\n",
              "\n",
              "    .colab-df-convert:hover {\n",
              "      background-color: #E2EBFA;\n",
              "      box-shadow: 0px 1px 2px rgba(60, 64, 67, 0.3), 0px 1px 3px 1px rgba(60, 64, 67, 0.15);\n",
              "      fill: #174EA6;\n",
              "    }\n",
              "\n",
              "    [theme=dark] .colab-df-convert {\n",
              "      background-color: #3B4455;\n",
              "      fill: #D2E3FC;\n",
              "    }\n",
              "\n",
              "    [theme=dark] .colab-df-convert:hover {\n",
              "      background-color: #434B5C;\n",
              "      box-shadow: 0px 1px 3px 1px rgba(0, 0, 0, 0.15);\n",
              "      filter: drop-shadow(0px 1px 2px rgba(0, 0, 0, 0.3));\n",
              "      fill: #FFFFFF;\n",
              "    }\n",
              "  </style>\n",
              "\n",
              "      <script>\n",
              "        const buttonEl =\n",
              "          document.querySelector('#df-5a16ee33-dfd5-46b0-8508-7c3e9ea5f3ec button.colab-df-convert');\n",
              "        buttonEl.style.display =\n",
              "          google.colab.kernel.accessAllowed ? 'block' : 'none';\n",
              "\n",
              "        async function convertToInteractive(key) {\n",
              "          const element = document.querySelector('#df-5a16ee33-dfd5-46b0-8508-7c3e9ea5f3ec');\n",
              "          const dataTable =\n",
              "            await google.colab.kernel.invokeFunction('convertToInteractive',\n",
              "                                                     [key], {});\n",
              "          if (!dataTable) return;\n",
              "\n",
              "          const docLinkHtml = 'Like what you see? Visit the ' +\n",
              "            '<a target=\"_blank\" href=https://colab.research.google.com/notebooks/data_table.ipynb>data table notebook</a>'\n",
              "            + ' to learn more about interactive tables.';\n",
              "          element.innerHTML = '';\n",
              "          dataTable['output_type'] = 'display_data';\n",
              "          await google.colab.output.renderOutput(dataTable, element);\n",
              "          const docLink = document.createElement('div');\n",
              "          docLink.innerHTML = docLinkHtml;\n",
              "          element.appendChild(docLink);\n",
              "        }\n",
              "      </script>\n",
              "    </div>\n",
              "  </div>\n",
              "  "
            ]
          },
          "metadata": {},
          "execution_count": 10
        }
      ]
    },
    {
      "cell_type": "code",
      "source": [
        "### Avaliando diferentes distribuições\n",
        "from scipy.stats import kstest\n",
        "import scipy.stats as st"
      ],
      "metadata": {
        "id": "Tx5aMGQwbTtJ"
      },
      "execution_count": 11,
      "outputs": []
    },
    {
      "cell_type": "code",
      "source": [
        "# Normal\n",
        "stat, p_val = kstest(data1_sem_outlier['valores'], 'norm', st.norm.fit(data1_sem_outlier)) \n",
        "print(f'Statistic: \\t{stat} \\nP-Value: \\t{p_val}\\n')"
      ],
      "metadata": {
        "colab": {
          "base_uri": "https://localhost:8080/"
        },
        "id": "OkZL0YVTg9xO",
        "outputId": "47bcaf28-3a81-4eb4-e549-331c07fa4526"
      },
      "execution_count": 12,
      "outputs": [
        {
          "output_type": "stream",
          "name": "stdout",
          "text": [
            "Statistic: \t0.009146194975577004 \n",
            "P-Value: \t1.2732895302308867e-07\n",
            "\n"
          ]
        }
      ]
    },
    {
      "cell_type": "code",
      "source": [
        "# Exponential\n",
        "stat, p_val = kstest(data1_sem_outlier['valores'], 'expon', st.expon.fit(data1_sem_outlier)) \n",
        "print(f'Statistic: \\t{stat} \\nP-Value: \\t{p_val}\\n')"
      ],
      "metadata": {
        "colab": {
          "base_uri": "https://localhost:8080/"
        },
        "id": "cEEEt8qumGBc",
        "outputId": "1c02fa06-04f2-42d9-af0a-7997d2cb5698"
      },
      "execution_count": 13,
      "outputs": [
        {
          "output_type": "stream",
          "name": "stdout",
          "text": [
            "Statistic: \t0.42167114403588113 \n",
            "P-Value: \t0.0\n",
            "\n"
          ]
        }
      ]
    },
    {
      "cell_type": "code",
      "source": [
        "# LogNormal\n",
        "stat, p_val = kstest(data1_sem_outlier['valores'], \"lognorm\", st.lognorm.fit(data1_sem_outlier))\n",
        "print(f'Statistic: \\t{stat} \\nP-Value: \\t{p_val}\\n')"
      ],
      "metadata": {
        "colab": {
          "base_uri": "https://localhost:8080/"
        },
        "id": "Z3vNndazmMLN",
        "outputId": "1da10dbe-b865-4298-c69e-bc4bace07177"
      },
      "execution_count": 14,
      "outputs": [
        {
          "output_type": "stream",
          "name": "stdout",
          "text": [
            "Statistic: \t0.009786720760546874 \n",
            "P-Value: \t1.1531776559435923e-08\n",
            "\n"
          ]
        }
      ]
    },
    {
      "cell_type": "code",
      "source": [
        "def teste_hipotese(dadoArray, dist, dado):\n",
        "  if(dist == 'norm'):\n",
        "    stat, p_val = kstest(dadoArray, 'norm', st.norm.fit(dado))\n",
        "  elif(dist == 'expon'):\n",
        "     stat, p_val = kstest(dadoArray, 'expon', st.expon.fit(dado))\n",
        "  elif(dist == 'lognorm'):\n",
        "    stat, p_val = kstest(dadoArray, 'lognorm', st.lognorm.fit(dado))\n",
        "  return f'Statistic: \\t{stat} \\nP-Value: \\t{p_val}\\n'"
      ],
      "metadata": {
        "id": "vxrE-XCTvrYu"
      },
      "execution_count": 15,
      "outputs": []
    },
    {
      "cell_type": "code",
      "source": [
        "teste_hipotese(data1_sem_outlier['valores'], 'norm', data1_sem_outlier )"
      ],
      "metadata": {
        "colab": {
          "base_uri": "https://localhost:8080/",
          "height": 35
        },
        "id": "c17U8zpVxJPk",
        "outputId": "579f98d4-e04a-43c3-8dfb-30418a07007a"
      },
      "execution_count": 16,
      "outputs": [
        {
          "output_type": "execute_result",
          "data": {
            "text/plain": [
              "'Statistic: \\t0.009146194975577004 \\nP-Value: \\t1.2732895302308867e-07\\n'"
            ],
            "application/vnd.google.colaboratory.intrinsic+json": {
              "type": "string"
            }
          },
          "metadata": {},
          "execution_count": 16
        }
      ]
    },
    {
      "cell_type": "code",
      "source": [
        "def teste_hipotese_todos(dadoArray, dado):\n",
        "  norm = p_val = kstest(dadoArray, 'norm', st.norm.fit(dado))\n",
        "  expon = p_val = kstest(dadoArray, 'expon', st.expon.fit(dado))\n",
        "  lognorm = p_val = kstest(dadoArray, 'lognorm', st.lognorm.fit(dado))\n",
        "  return f'\\norm-nP-Value: \\t{norm}\\n \\expon-nP-Value: \\t{expon}\\n \\lognorm-nP-Value: \\t{lognorm}\\n'"
      ],
      "metadata": {
        "id": "WDKnwYbX0SbY"
      },
      "execution_count": 17,
      "outputs": []
    },
    {
      "cell_type": "code",
      "source": [
        "print(teste_hipotese_todos(data1_sem_outlier['valores'], data1_sem_outlier ))"
      ],
      "metadata": {
        "colab": {
          "base_uri": "https://localhost:8080/"
        },
        "id": "0UWYnotw0hi7",
        "outputId": "0d6456a3-a754-498c-8a25-d2b27ef1adba"
      },
      "execution_count": 18,
      "outputs": [
        {
          "output_type": "stream",
          "name": "stdout",
          "text": [
            "\n",
            "orm-nP-Value: \tKstestResult(statistic=0.009146194975577004, pvalue=1.2732895302308867e-07, statistic_location=9.849912925380531, statistic_sign=-1)\n",
            " \\expon-nP-Value: \tKstestResult(statistic=0.42167114403588113, pvalue=0.0, statistic_location=5.904765239553074, statistic_sign=-1)\n",
            " \\lognorm-nP-Value: \tKstestResult(statistic=0.009786720760546874, pvalue=1.1531776559435923e-08, statistic_location=9.599964828897944, statistic_sign=-1)\n",
            "\n"
          ]
        }
      ]
    },
    {
      "cell_type": "markdown",
      "source": [
        "# Dado2"
      ],
      "metadata": {
        "id": "EhzIPuN_2-BK"
      }
    },
    {
      "cell_type": "code",
      "source": [
        "#Dado2\n",
        "filename_data2 = '/content/data2.csv'\n",
        "data2 = pd.read_csv(filename_data2)"
      ],
      "metadata": {
        "id": "b2351MGu3EAh"
      },
      "execution_count": 20,
      "outputs": []
    },
    {
      "cell_type": "code",
      "source": [
        "#medidas de posição\n",
        "media = data2.mean()\n",
        "mediana = data2.median()\n",
        "moda = data2.mode()\n",
        "minino = data2.min()\n",
        "maximo = data2.max()\n",
        "print(\"média:\", str(media), \"\\n\",\n",
        "      \"mediana:\", str(mediana), \"\\n\",\n",
        "      \"moda:\", str(moda), \"\\n\",\n",
        "      \"minino:\", str(minino), \"\\n\",\n",
        "      \"maximo:\", str(maximo), \"\\n\"\n",
        ")"
      ],
      "metadata": {
        "id": "DIcHe9hV3KsA",
        "colab": {
          "base_uri": "https://localhost:8080/"
        },
        "outputId": "51f1d974-b38f-4d2c-a405-435344b16b52"
      },
      "execution_count": 21,
      "outputs": [
        {
          "output_type": "stream",
          "name": "stdout",
          "text": [
            "média: valores    11.001963\n",
            "dtype: float64 \n",
            " mediana: valores    10.692913\n",
            "dtype: float64 \n",
            " moda:          valores\n",
            "0      10.000000\n",
            "1      10.000007\n",
            "2      10.000008\n",
            "3      10.000028\n",
            "4      10.000041\n",
            "...          ...\n",
            "99995  21.311255\n",
            "99996  22.164814\n",
            "99997  22.196457\n",
            "99998  22.215119\n",
            "99999  22.812852\n",
            "\n",
            "[100000 rows x 1 columns] \n",
            " minino: valores    10.0\n",
            "dtype: float64 \n",
            " maximo: valores    22.812852\n",
            "dtype: float64 \n",
            "\n"
          ]
        }
      ]
    },
    {
      "cell_type": "code",
      "source": [
        "#medidas de dispensão\n",
        "desvio_padrao = data2.std()\n",
        "variancia = data2.var()\n",
        "print(\"desvio padrão:\", str(desvio_padrao), \"\\n\",\n",
        "      \"variancia:\", str(mediana), \"\\n\"\n",
        ")"
      ],
      "metadata": {
        "colab": {
          "base_uri": "https://localhost:8080/"
        },
        "id": "8hXES65M3Uzz",
        "outputId": "55b02e58-e015-4e4f-fb80-cfc452c8ec9d"
      },
      "execution_count": 22,
      "outputs": [
        {
          "output_type": "stream",
          "name": "stdout",
          "text": [
            "desvio padrão: valores    1.001969\n",
            "dtype: float64 \n",
            " variancia: valores    10.692913\n",
            "dtype: float64 \n",
            "\n"
          ]
        }
      ]
    },
    {
      "cell_type": "code",
      "source": [
        "#coeficiente de assimetria\n",
        "assimetria = data2.skew()\n",
        "print(assimetria)"
      ],
      "metadata": {
        "colab": {
          "base_uri": "https://localhost:8080/"
        },
        "id": "anDwmXPM3f-Y",
        "outputId": "bde7d8ff-f67a-4ce5-ca52-3c6d68bff9e8"
      },
      "execution_count": 23,
      "outputs": [
        {
          "output_type": "stream",
          "name": "stdout",
          "text": [
            "valores    2.025278\n",
            "dtype: float64\n"
          ]
        }
      ]
    },
    {
      "cell_type": "code",
      "source": [
        "plt.rcParams['figure.figsize'] = [12, 12]\n",
        "\n",
        "sns.boxplot(y=data2[\"valores\"])"
      ],
      "metadata": {
        "colab": {
          "base_uri": "https://localhost:8080/",
          "height": 704
        },
        "id": "k9ukbyqH3mp0",
        "outputId": "badcf793-4e55-4bf4-9d4f-bf2f74c61f69"
      },
      "execution_count": 41,
      "outputs": [
        {
          "output_type": "execute_result",
          "data": {
            "text/plain": [
              "<AxesSubplot:ylabel='valores'>"
            ]
          },
          "metadata": {},
          "execution_count": 41
        },
        {
          "output_type": "display_data",
          "data": {
            "text/plain": [
              "<Figure size 864x864 with 1 Axes>"
            ],
            "image/png": "[encoded data removed]"
          },
          "metadata": {
            "needs_background": "light"
          }
        }
      ]
    },
    {
      "cell_type": "code",
      "source": [
        "## Histograma\n",
        "plt.hist(data2[\"valores\"], bins='auto',\n",
        "            alpha=0.7, rwidth=0.85)\n",
        "plt.grid(axis='y', alpha=0.75)\n",
        "plt.xlabel('Data2')\n",
        "plt.ylabel('Frequência')\n",
        "plt.title('Histograma dos valores dos dados 2')\n",
        "plt.show()"
      ],
      "metadata": {
        "colab": {
          "base_uri": "https://localhost:8080/",
          "height": 730
        },
        "id": "RJFeS5gG3rO4",
        "outputId": "1b27b4b9-31fc-4c62-943d-ba00170439db"
      },
      "execution_count": 34,
      "outputs": [
        {
          "output_type": "display_data",
          "data": {
            "text/plain": [
              "<Figure size 864x864 with 1 Axes>"
            ],
            "image/png": "[encoded data removed]"
          },
          "metadata": {
            "needs_background": "light"
          }
        }
      ]
    },
    {
      "cell_type": "code",
      "source": [
        "sns.distplot(data2, hist=True, \n",
        "             bins=int(180/5), \n",
        "             color = 'darkblue')"
      ],
      "metadata": {
        "colab": {
          "base_uri": "https://localhost:8080/",
          "height": 772
        },
        "id": "LVuwY_Rb340y",
        "outputId": "bd41e623-8b3b-42ab-f012-e90b47a717ad"
      },
      "execution_count": 35,
      "outputs": [
        {
          "output_type": "stream",
          "name": "stderr",
          "text": [
            "/usr/local/lib/python3.9/dist-packages/seaborn/distributions.py:2619: FutureWarning: `distplot` is a deprecated function and will be removed in a future version. Please adapt your code to use either `displot` (a figure-level function with similar flexibility) or `histplot` (an axes-level function for histograms).\n",
            "  warnings.warn(msg, FutureWarning)\n"
          ]
        },
        {
          "output_type": "execute_result",
          "data": {
            "text/plain": [
              "<AxesSubplot:ylabel='Density'>"
            ]
          },
          "metadata": {},
          "execution_count": 35
        },
        {
          "output_type": "display_data",
          "data": {
            "text/plain": [
              "<Figure size 864x864 with 1 Axes>"
            ],
            "image/png": "[encoded data removed]"
          },
          "metadata": {
            "needs_background": "light"
          }
        }
      ]
    },
    {
      "cell_type": "code",
      "source": [
        "# Remover outlier\n",
        "q = data2[\"valores\"].quantile(0.99)\n",
        "\n",
        "data2_sem_outlier = data2[data2[\"valores\"] < q]\n",
        "data2[data2['valores']==728]\n",
        "data2_sem_outlier[data2_sem_outlier['valores']==728]"
      ],
      "metadata": {
        "colab": {
          "base_uri": "https://localhost:8080/",
          "height": 49
        },
        "id": "gOzXgEWY39ll",
        "outputId": "fc2468d4-0c0b-4bf1-c62a-e2db4f32f233"
      },
      "execution_count": 49,
      "outputs": [
        {
          "output_type": "execute_result",
          "data": {
            "text/plain": [
              "Empty DataFrame\n",
              "Columns: [valores]\n",
              "Index: []"
            ],
            "text/html": [
              "\n",
              "  <div id=\"df-efe4c3a8-6671-4c23-94f7-c8f03ce0ade9\">\n",
              "    <div class=\"colab-df-container\">\n",
              "      <div>\n",
              "<style scoped>\n",
              "    .dataframe tbody tr th:only-of-type {\n",
              "        vertical-align: middle;\n",
              "    }\n",
              "\n",
              "    .dataframe tbody tr th {\n",
              "        vertical-align: top;\n",
              "    }\n",
              "\n",
              "    .dataframe thead th {\n",
              "        text-align: right;\n",
              "    }\n",
              "</style>\n",
              "<table border=\"1\" class=\"dataframe\">\n",
              "  <thead>\n",
              "    <tr style=\"text-align: right;\">\n",
              "      <th></th>\n",
              "      <th>valores</th>\n",
              "    </tr>\n",
              "  </thead>\n",
              "  <tbody>\n",
              "  </tbody>\n",
              "</table>\n",
              "</div>\n",
              "      <button class=\"colab-df-convert\" onclick=\"convertToInteractive('df-efe4c3a8-6671-4c23-94f7-c8f03ce0ade9')\"\n",
              "              title=\"Convert this dataframe to an interactive table.\"\n",
              "              style=\"display:none;\">\n",
              "        \n",
              "  <svg xmlns=\"http://www.w3.org/2000/svg\" height=\"24px\"viewBox=\"0 0 24 24\"\n",
              "       width=\"24px\">\n",
              "    <path d=\"M0 0h24v24H0V0z\" fill=\"none\"/>\n",
              "    <path d=\"M18.56 5.44l.94 2.06.94-2.06 2.06-.94-2.06-.94-.94-2.06-.94 2.06-2.06.94zm-11 1L8.5 8.5l.94-2.06 2.06-.94-2.06-.94L8.5 2.5l-.94 2.06-2.06.94zm10 10l.94 2.06.94-2.06 2.06-.94-2.06-.94-.94-2.06-.94 2.06-2.06.94z\"/><path d=\"M17.41 7.96l-1.37-1.37c-.4-.4-.92-.59-1.43-.59-.52 0-1.04.2-1.43.59L10.3 9.45l-7.72 7.72c-.78.78-.78 2.05 0 2.83L4 21.41c.39.39.9.59 1.41.59.51 0 1.02-.2 1.41-.59l7.78-7.78 2.81-2.81c.8-.78.8-2.07 0-2.86zM5.41 20L4 18.59l7.72-7.72 1.47 1.35L5.41 20z\"/>\n",
              "  </svg>\n",
              "      </button>\n",
              "      \n",
              "  <style>\n",
              "    .colab-df-container {\n",
              "      display:flex;\n",
              "      flex-wrap:wrap;\n",
              "      gap: 12px;\n",
              "    }\n",
              "\n",
              "    .colab-df-convert {\n",
              "      background-color: #E8F0FE;\n",
              "      border: none;\n",
              "      border-radius: 50%;\n",
              "      cursor: pointer;\n",
              "      display: none;\n",
              "      fill: #1967D2;\n",
              "      height: 32px;\n",
              "      padding: 0 0 0 0;\n",
              "      width: 32px;\n",
              "    }\n",
              "\n",
              "    .colab-df-convert:hover {\n",
              "      background-color: #E2EBFA;\n",
              "      box-shadow: 0px 1px 2px rgba(60, 64, 67, 0.3), 0px 1px 3px 1px rgba(60, 64, 67, 0.15);\n",
              "      fill: #174EA6;\n",
              "    }\n",
              "\n",
              "    [theme=dark] .colab-df-convert {\n",
              "      background-color: #3B4455;\n",
              "      fill: #D2E3FC;\n",
              "    }\n",
              "\n",
              "    [theme=dark] .colab-df-convert:hover {\n",
              "      background-color: #434B5C;\n",
              "      box-shadow: 0px 1px 3px 1px rgba(0, 0, 0, 0.15);\n",
              "      filter: drop-shadow(0px 1px 2px rgba(0, 0, 0, 0.3));\n",
              "      fill: #FFFFFF;\n",
              "    }\n",
              "  </style>\n",
              "\n",
              "      <script>\n",
              "        const buttonEl =\n",
              "          document.querySelector('#df-efe4c3a8-6671-4c23-94f7-c8f03ce0ade9 button.colab-df-convert');\n",
              "        buttonEl.style.display =\n",
              "          google.colab.kernel.accessAllowed ? 'block' : 'none';\n",
              "\n",
              "        async function convertToInteractive(key) {\n",
              "          const element = document.querySelector('#df-efe4c3a8-6671-4c23-94f7-c8f03ce0ade9');\n",
              "          const dataTable =\n",
              "            await google.colab.kernel.invokeFunction('convertToInteractive',\n",
              "                                                     [key], {});\n",
              "          if (!dataTable) return;\n",
              "\n",
              "          const docLinkHtml = 'Like what you see? Visit the ' +\n",
              "            '<a target=\"_blank\" href=https://colab.research.google.com/notebooks/data_table.ipynb>data table notebook</a>'\n",
              "            + ' to learn more about interactive tables.';\n",
              "          element.innerHTML = '';\n",
              "          dataTable['output_type'] = 'display_data';\n",
              "          await google.colab.output.renderOutput(dataTable, element);\n",
              "          const docLink = document.createElement('div');\n",
              "          docLink.innerHTML = docLinkHtml;\n",
              "          element.appendChild(docLink);\n",
              "        }\n",
              "      </script>\n",
              "    </div>\n",
              "  </div>\n",
              "  "
            ]
          },
          "metadata": {},
          "execution_count": 49
        }
      ]
    },
    {
      "cell_type": "code",
      "source": [
        "print(teste_hipotese_todos(data2_sem_outlier['valores'], data2_sem_outlier ))"
      ],
      "metadata": {
        "id": "lJaNcJVN4RXP",
        "outputId": "e574a3e6-796e-4a79-a5e8-b345b49efd09",
        "colab": {
          "base_uri": "https://localhost:8080/"
        }
      },
      "execution_count": 50,
      "outputs": [
        {
          "output_type": "stream",
          "name": "stdout",
          "text": [
            "\n",
            "orm-nP-Value: \tKstestResult(statistic=0.14031873762128527, pvalue=0.0, statistic_location=10.00000040734025, statistic_sign=-1)\n",
            " \\expon-nP-Value: \tKstestResult(statistic=0.012266753935829211, pvalue=2.279467334657018e-13, statistic_location=11.027013830503549, statistic_sign=-1)\n",
            " \\lognorm-nP-Value: \tKstestResult(statistic=0.03874950903949648, pvalue=1.3502968980246459e-129, statistic_location=10.980772494146372, statistic_sign=-1)\n",
            "\n"
          ]
        }
      ]
    },
    {
      "cell_type": "markdown",
      "source": [
        "# Dado 3"
      ],
      "metadata": {
        "id": "UTh-OR5Ne8ue"
      }
    },
    {
      "cell_type": "code",
      "source": [
        "#Dado3\n",
        "filename_data3 = '/content/data3.csv'\n",
        "data3 = pd.read_csv(filename_data3)"
      ],
      "metadata": {
        "id": "-XEihdQEe_Xb"
      },
      "execution_count": 51,
      "outputs": []
    },
    {
      "cell_type": "code",
      "source": [
        "#medidas de posição\n",
        "media = data3.mean()\n",
        "mediana = data3.median()\n",
        "moda = data3.mode()\n",
        "minino = data3.min()\n",
        "maximo = data3.max()\n",
        "print(\"média:\", str(media), \"\\n\",\n",
        "      \"mediana:\", str(mediana), \"\\n\",\n",
        "      \"moda:\", str(moda), \"\\n\",\n",
        "      \"minino:\", str(minino), \"\\n\",\n",
        "      \"maximo:\", str(maximo), \"\\n\"\n",
        ")"
      ],
      "metadata": {
        "colab": {
          "base_uri": "https://localhost:8080/"
        },
        "id": "fChQIf1EfH8U",
        "outputId": "f9b4c30e-5d1e-4186-f478-2a41ae04023c"
      },
      "execution_count": 52,
      "outputs": [
        {
          "output_type": "stream",
          "name": "stdout",
          "text": [
            "média: valores    12.99637\n",
            "dtype: float64 \n",
            " mediana: valores    12.986897\n",
            "dtype: float64 \n",
            " moda:          valores\n",
            "0       8.000096\n",
            "1       8.000113\n",
            "2       8.000193\n",
            "3       8.000549\n",
            "4       8.000616\n",
            "...          ...\n",
            "99995  17.999744\n",
            "99996  17.999797\n",
            "99997  17.999856\n",
            "99998  17.999933\n",
            "99999  17.999981\n",
            "\n",
            "[100000 rows x 1 columns] \n",
            " minino: valores    8.000096\n",
            "dtype: float64 \n",
            " maximo: valores    17.999981\n",
            "dtype: float64 \n",
            "\n"
          ]
        }
      ]
    },
    {
      "cell_type": "code",
      "source": [
        "#medidas de dispensão\n",
        "desvio_padrao = data3.std()\n",
        "variancia = data3.var()\n",
        "print(\"desvio padrão:\", str(desvio_padrao), \"\\n\",\n",
        "      \"variancia:\", str(mediana), \"\\n\"\n",
        ")"
      ],
      "metadata": {
        "colab": {
          "base_uri": "https://localhost:8080/"
        },
        "id": "TgMVpjCrfP0A",
        "outputId": "db5ab07b-06c8-4da8-8667-67995f97d209"
      },
      "execution_count": 53,
      "outputs": [
        {
          "output_type": "stream",
          "name": "stdout",
          "text": [
            "desvio padrão: valores    2.889233\n",
            "dtype: float64 \n",
            " variancia: valores    12.986897\n",
            "dtype: float64 \n",
            "\n"
          ]
        }
      ]
    },
    {
      "cell_type": "code",
      "source": [
        "#coeficiente de assimetria\n",
        "assimetria = data3.skew()\n",
        "print(assimetria)"
      ],
      "metadata": {
        "colab": {
          "base_uri": "https://localhost:8080/"
        },
        "id": "mHXahygxfSy-",
        "outputId": "b7619ca7-df0f-4658-c085-cb2419ed8c42"
      },
      "execution_count": 54,
      "outputs": [
        {
          "output_type": "stream",
          "name": "stdout",
          "text": [
            "valores    0.007441\n",
            "dtype: float64\n"
          ]
        }
      ]
    },
    {
      "cell_type": "code",
      "source": [
        "plt.rcParams['figure.figsize'] = [12, 12]\n",
        "\n",
        "sns.boxplot(y=data3[\"valores\"])"
      ],
      "metadata": {
        "colab": {
          "base_uri": "https://localhost:8080/",
          "height": 704
        },
        "id": "0UG-5uuQfZKj",
        "outputId": "30344839-e605-47f9-e478-9370e22597e8"
      },
      "execution_count": 56,
      "outputs": [
        {
          "output_type": "execute_result",
          "data": {
            "text/plain": [
              "<AxesSubplot:ylabel='valores'>"
            ]
          },
          "metadata": {},
          "execution_count": 56
        },
        {
          "output_type": "display_data",
          "data": {
            "text/plain": [
              "<Figure size 864x864 with 1 Axes>"
            ],
            "image/png": "[encoded data removed]"
          },
          "metadata": {
            "needs_background": "light"
          }
        }
      ]
    },
    {
      "cell_type": "code",
      "source": [
        "## Histograma\n",
        "plt.hist(data3[\"valores\"], bins='auto',\n",
        "            alpha=0.7, rwidth=0.85)\n",
        "plt.grid(axis='y', alpha=0.75)\n",
        "plt.xlabel('Data3')\n",
        "plt.ylabel('Frequência')\n",
        "plt.title('Histograma dos valores dos dados 3')\n",
        "plt.show()"
      ],
      "metadata": {
        "colab": {
          "base_uri": "https://localhost:8080/",
          "height": 730
        },
        "id": "nSGnUb_Ofjju",
        "outputId": "438062a4-c94c-455e-a31a-6d17e56affa9"
      },
      "execution_count": 57,
      "outputs": [
        {
          "output_type": "display_data",
          "data": {
            "text/plain": [
              "<Figure size 864x864 with 1 Axes>"
            ],
            "image/png": "[encoded data removed]"
          },
          "metadata": {
            "needs_background": "light"
          }
        }
      ]
    },
    {
      "cell_type": "code",
      "source": [
        "sns.distplot(data3, hist=True, \n",
        "             bins=int(180/5), \n",
        "             color = 'darkblue')"
      ],
      "metadata": {
        "colab": {
          "base_uri": "https://localhost:8080/",
          "height": 772
        },
        "id": "VA81F2IGfxhX",
        "outputId": "fcf42422-f5d4-4ffc-e77f-1580e075ad4a"
      },
      "execution_count": 58,
      "outputs": [
        {
          "output_type": "stream",
          "name": "stderr",
          "text": [
            "/usr/local/lib/python3.9/dist-packages/seaborn/distributions.py:2619: FutureWarning: `distplot` is a deprecated function and will be removed in a future version. Please adapt your code to use either `displot` (a figure-level function with similar flexibility) or `histplot` (an axes-level function for histograms).\n",
            "  warnings.warn(msg, FutureWarning)\n"
          ]
        },
        {
          "output_type": "execute_result",
          "data": {
            "text/plain": [
              "<AxesSubplot:ylabel='Density'>"
            ]
          },
          "metadata": {},
          "execution_count": 58
        },
        {
          "output_type": "display_data",
          "data": {
            "text/plain": [
              "<Figure size 864x864 with 1 Axes>"
            ],
            "image/png": "[encoded data removed]"
          },
          "metadata": {
            "needs_background": "light"
          }
        }
      ]
    },
    {
      "cell_type": "code",
      "source": [
        "# Remover outlier\n",
        "q = data3[\"valores\"].quantile(0.99)\n",
        "\n",
        "data3_sem_outlier = data3[data3[\"valores\"] < q]\n",
        "data3[data3['valores']==728]\n",
        "data3_sem_outlier[data3_sem_outlier['valores']==728]"
      ],
      "metadata": {
        "colab": {
          "base_uri": "https://localhost:8080/",
          "height": 49
        },
        "id": "vBonpv23f90X",
        "outputId": "6c01b4bc-2156-4eef-95ab-e5ad076dbc6b"
      },
      "execution_count": 59,
      "outputs": [
        {
          "output_type": "execute_result",
          "data": {
            "text/plain": [
              "Empty DataFrame\n",
              "Columns: [valores]\n",
              "Index: []"
            ],
            "text/html": [
              "\n",
              "  <div id=\"df-e217b36f-4be3-4d77-854e-a919818517ad\">\n",
              "    <div class=\"colab-df-container\">\n",
              "      <div>\n",
              "<style scoped>\n",
              "    .dataframe tbody tr th:only-of-type {\n",
              "        vertical-align: middle;\n",
              "    }\n",
              "\n",
              "    .dataframe tbody tr th {\n",
              "        vertical-align: top;\n",
              "    }\n",
              "\n",
              "    .dataframe thead th {\n",
              "        text-align: right;\n",
              "    }\n",
              "</style>\n",
              "<table border=\"1\" class=\"dataframe\">\n",
              "  <thead>\n",
              "    <tr style=\"text-align: right;\">\n",
              "      <th></th>\n",
              "      <th>valores</th>\n",
              "    </tr>\n",
              "  </thead>\n",
              "  <tbody>\n",
              "  </tbody>\n",
              "</table>\n",
              "</div>\n",
              "      <button class=\"colab-df-convert\" onclick=\"convertToInteractive('df-e217b36f-4be3-4d77-854e-a919818517ad')\"\n",
              "              title=\"Convert this dataframe to an interactive table.\"\n",
              "              style=\"display:none;\">\n",
              "        \n",
              "  <svg xmlns=\"http://www.w3.org/2000/svg\" height=\"24px\"viewBox=\"0 0 24 24\"\n",
              "       width=\"24px\">\n",
              "    <path d=\"M0 0h24v24H0V0z\" fill=\"none\"/>\n",
              "    <path d=\"M18.56 5.44l.94 2.06.94-2.06 2.06-.94-2.06-.94-.94-2.06-.94 2.06-2.06.94zm-11 1L8.5 8.5l.94-2.06 2.06-.94-2.06-.94L8.5 2.5l-.94 2.06-2.06.94zm10 10l.94 2.06.94-2.06 2.06-.94-2.06-.94-.94-2.06-.94 2.06-2.06.94z\"/><path d=\"M17.41 7.96l-1.37-1.37c-.4-.4-.92-.59-1.43-.59-.52 0-1.04.2-1.43.59L10.3 9.45l-7.72 7.72c-.78.78-.78 2.05 0 2.83L4 21.41c.39.39.9.59 1.41.59.51 0 1.02-.2 1.41-.59l7.78-7.78 2.81-2.81c.8-.78.8-2.07 0-2.86zM5.41 20L4 18.59l7.72-7.72 1.47 1.35L5.41 20z\"/>\n",
              "  </svg>\n",
              "      </button>\n",
              "      \n",
              "  <style>\n",
              "    .colab-df-container {\n",
              "      display:flex;\n",
              "      flex-wrap:wrap;\n",
              "      gap: 12px;\n",
              "    }\n",
              "\n",
              "    .colab-df-convert {\n",
              "      background-color: #E8F0FE;\n",
              "      border: none;\n",
              "      border-radius: 50%;\n",
              "      cursor: pointer;\n",
              "      display: none;\n",
              "      fill: #1967D2;\n",
              "      height: 32px;\n",
              "      padding: 0 0 0 0;\n",
              "      width: 32px;\n",
              "    }\n",
              "\n",
              "    .colab-df-convert:hover {\n",
              "      background-color: #E2EBFA;\n",
              "      box-shadow: 0px 1px 2px rgba(60, 64, 67, 0.3), 0px 1px 3px 1px rgba(60, 64, 67, 0.15);\n",
              "      fill: #174EA6;\n",
              "    }\n",
              "\n",
              "    [theme=dark] .colab-df-convert {\n",
              "      background-color: #3B4455;\n",
              "      fill: #D2E3FC;\n",
              "    }\n",
              "\n",
              "    [theme=dark] .colab-df-convert:hover {\n",
              "      background-color: #434B5C;\n",
              "      box-shadow: 0px 1px 3px 1px rgba(0, 0, 0, 0.15);\n",
              "      filter: drop-shadow(0px 1px 2px rgba(0, 0, 0, 0.3));\n",
              "      fill: #FFFFFF;\n",
              "    }\n",
              "  </style>\n",
              "\n",
              "      <script>\n",
              "        const buttonEl =\n",
              "          document.querySelector('#df-e217b36f-4be3-4d77-854e-a919818517ad button.colab-df-convert');\n",
              "        buttonEl.style.display =\n",
              "          google.colab.kernel.accessAllowed ? 'block' : 'none';\n",
              "\n",
              "        async function convertToInteractive(key) {\n",
              "          const element = document.querySelector('#df-e217b36f-4be3-4d77-854e-a919818517ad');\n",
              "          const dataTable =\n",
              "            await google.colab.kernel.invokeFunction('convertToInteractive',\n",
              "                                                     [key], {});\n",
              "          if (!dataTable) return;\n",
              "\n",
              "          const docLinkHtml = 'Like what you see? Visit the ' +\n",
              "            '<a target=\"_blank\" href=https://colab.research.google.com/notebooks/data_table.ipynb>data table notebook</a>'\n",
              "            + ' to learn more about interactive tables.';\n",
              "          element.innerHTML = '';\n",
              "          dataTable['output_type'] = 'display_data';\n",
              "          await google.colab.output.renderOutput(dataTable, element);\n",
              "          const docLink = document.createElement('div');\n",
              "          docLink.innerHTML = docLinkHtml;\n",
              "          element.appendChild(docLink);\n",
              "        }\n",
              "      </script>\n",
              "    </div>\n",
              "  </div>\n",
              "  "
            ]
          },
          "metadata": {},
          "execution_count": 59
        }
      ]
    },
    {
      "cell_type": "code",
      "source": [
        "print(teste_hipotese_todos(data3_sem_outlier['valores'], data3_sem_outlier ))"
      ],
      "metadata": {
        "colab": {
          "base_uri": "https://localhost:8080/"
        },
        "id": "kAvN1ygGgH8L",
        "outputId": "3ea1fc9b-448d-4cd5-e008-8be61d35c632"
      },
      "execution_count": 60,
      "outputs": [
        {
          "output_type": "stream",
          "name": "stdout",
          "text": [
            "\n",
            "orm-nP-Value: \tKstestResult(statistic=0.058325649033274474, pvalue=3.423059105083818e-293, statistic_location=10.573586497911233, statistic_sign=1)\n",
            " \\expon-nP-Value: \tKstestResult(statistic=0.15158186452195493, pvalue=0.0, statistic_location=11.29904475875976, statistic_sign=-1)\n",
            " \\lognorm-nP-Value: \tKstestResult(statistic=0.05945538415638685, pvalue=1.1869618771085998e-304, statistic_location=15.149296783529431, statistic_sign=-1)\n",
            "\n"
          ]
        }
      ]
    },
    {
      "cell_type": "markdown",
      "source": [
        "# Dado 4"
      ],
      "metadata": {
        "id": "RLNvdPDXgsFK"
      }
    },
    {
      "cell_type": "code",
      "source": [
        "#Dado4\n",
        "filename_data4 = '/content/data4.csv'\n",
        "data4 = pd.read_csv(filename_data4)"
      ],
      "metadata": {
        "id": "0blKx9edgxxJ"
      },
      "execution_count": 61,
      "outputs": []
    },
    {
      "cell_type": "code",
      "source": [
        "#medidas de posição\n",
        "media = data4.mean()\n",
        "mediana = data4.median()\n",
        "moda = data4.mode()\n",
        "minino = data4.min()\n",
        "maximo = data4.max()\n",
        "print(\"média:\", str(media), \"\\n\",\n",
        "      \"mediana:\", str(mediana), \"\\n\",\n",
        "      \"moda:\", str(moda), \"\\n\",\n",
        "      \"minino:\", str(minino), \"\\n\",\n",
        "      \"maximo:\", str(maximo), \"\\n\"\n",
        ")"
      ],
      "metadata": {
        "colab": {
          "base_uri": "https://localhost:8080/"
        },
        "id": "ktD0HcxCg4sj",
        "outputId": "33bb11f4-682a-4d45-fa86-831a88113c93"
      },
      "execution_count": 62,
      "outputs": [
        {
          "output_type": "stream",
          "name": "stdout",
          "text": [
            "média: valores    1.567531\n",
            "dtype: float64 \n",
            " mediana: valores    1.001987\n",
            "dtype: float64 \n",
            " moda:          valores\n",
            "0       0.019546\n",
            "1       0.020648\n",
            "2       0.023136\n",
            "3       0.025058\n",
            "4       0.026266\n",
            "...          ...\n",
            "99995  49.793112\n",
            "99996  52.485301\n",
            "99997  53.766335\n",
            "99998  60.772040\n",
            "99999  61.666675\n",
            "\n",
            "[100000 rows x 1 columns] \n",
            " minino: valores    0.019546\n",
            "dtype: float64 \n",
            " maximo: valores    61.666675\n",
            "dtype: float64 \n",
            "\n"
          ]
        }
      ]
    },
    {
      "cell_type": "code",
      "source": [
        "#medidas de dispensão\n",
        "desvio_padrao = data4.std()\n",
        "variancia = data4.var()\n",
        "print(\"desvio padrão:\", str(desvio_padrao), \"\\n\",\n",
        "      \"variancia:\", str(mediana), \"\\n\"\n",
        ")"
      ],
      "metadata": {
        "colab": {
          "base_uri": "https://localhost:8080/"
        },
        "id": "gG_rxo9phAoY",
        "outputId": "1253ccb2-8651-492b-e117-daa2d262d3b1"
      },
      "execution_count": 63,
      "outputs": [
        {
          "output_type": "stream",
          "name": "stdout",
          "text": [
            "desvio padrão: valores    1.899995\n",
            "dtype: float64 \n",
            " variancia: valores    1.001987\n",
            "dtype: float64 \n",
            "\n"
          ]
        }
      ]
    },
    {
      "cell_type": "code",
      "source": [
        "#coeficiente de assimetria\n",
        "assimetria = data4.skew()\n",
        "print(assimetria)"
      ],
      "metadata": {
        "colab": {
          "base_uri": "https://localhost:8080/"
        },
        "id": "G3_49X0FhPaz",
        "outputId": "94a5b848-898a-4a25-bdb3-d2f1606c88e0"
      },
      "execution_count": 64,
      "outputs": [
        {
          "output_type": "stream",
          "name": "stdout",
          "text": [
            "valores    5.472745\n",
            "dtype: float64\n"
          ]
        }
      ]
    },
    {
      "cell_type": "code",
      "source": [
        "plt.rcParams['figure.figsize'] = [12, 12]\n",
        "\n",
        "sns.boxplot(y=data4[\"valores\"])"
      ],
      "metadata": {
        "colab": {
          "base_uri": "https://localhost:8080/",
          "height": 704
        },
        "id": "A3pijAVwhRG1",
        "outputId": "3be157cf-4bf9-4d12-dbb0-2daf6d2eefe4"
      },
      "execution_count": 65,
      "outputs": [
        {
          "output_type": "execute_result",
          "data": {
            "text/plain": [
              "<AxesSubplot:ylabel='valores'>"
            ]
          },
          "metadata": {},
          "execution_count": 65
        },
        {
          "output_type": "display_data",
          "data": {
            "text/plain": [
              "<Figure size 864x864 with 1 Axes>"
            ],
            "image/png": "[encoded data removed]"
          },
          "metadata": {
            "needs_background": "light"
          }
        }
      ]
    },
    {
      "cell_type": "code",
      "source": [
        "## Histograma\n",
        "plt.hist(data4[\"valores\"], bins='auto',\n",
        "            alpha=0.7, rwidth=0.85)\n",
        "plt.grid(axis='y', alpha=0.75)\n",
        "plt.xlabel('Data4')\n",
        "plt.ylabel('Frequência')\n",
        "plt.title('Histograma dos valores dos dados 4')\n",
        "plt.show()"
      ],
      "metadata": {
        "colab": {
          "base_uri": "https://localhost:8080/",
          "height": 730
        },
        "id": "5pZD9V8ThV7u",
        "outputId": "b5ac8839-0a25-405f-deb1-fcf8982b4216"
      },
      "execution_count": 66,
      "outputs": [
        {
          "output_type": "display_data",
          "data": {
            "text/plain": [
              "<Figure size 864x864 with 1 Axes>"
            ],
            "image/png": "[encoded data removed]"
          },
          "metadata": {
            "needs_background": "light"
          }
        }
      ]
    },
    {
      "cell_type": "code",
      "source": [
        "sns.distplot(data4, hist=True, \n",
        "             bins=int(180/5), \n",
        "             color = 'darkblue')"
      ],
      "metadata": {
        "colab": {
          "base_uri": "https://localhost:8080/",
          "height": 772
        },
        "id": "2WIVx4kghdWW",
        "outputId": "b1268c20-af2f-4886-e6c0-fda957bb9ff4"
      },
      "execution_count": 67,
      "outputs": [
        {
          "output_type": "stream",
          "name": "stderr",
          "text": [
            "/usr/local/lib/python3.9/dist-packages/seaborn/distributions.py:2619: FutureWarning: `distplot` is a deprecated function and will be removed in a future version. Please adapt your code to use either `displot` (a figure-level function with similar flexibility) or `histplot` (an axes-level function for histograms).\n",
            "  warnings.warn(msg, FutureWarning)\n"
          ]
        },
        {
          "output_type": "execute_result",
          "data": {
            "text/plain": [
              "<AxesSubplot:ylabel='Density'>"
            ]
          },
          "metadata": {},
          "execution_count": 67
        },
        {
          "output_type": "display_data",
          "data": {
            "text/plain": [
              "<Figure size 864x864 with 1 Axes>"
            ],
            "image/png": "[encoded data removed]"
          },
          "metadata": {
            "needs_background": "light"
          }
        }
      ]
    },
    {
      "cell_type": "code",
      "source": [
        "# Remover outlier\n",
        "q = data4[\"valores\"].quantile(0.99)\n",
        "\n",
        "data4_sem_outlier = data4[data4[\"valores\"] < q]\n",
        "data4[data4['valores']==728]\n",
        "data4_sem_outlier[data4_sem_outlier['valores']==728]"
      ],
      "metadata": {
        "colab": {
          "base_uri": "https://localhost:8080/",
          "height": 49
        },
        "id": "PUjruZqphhVI",
        "outputId": "6aa17d81-0dbf-4a2b-ec75-10ed28f892f4"
      },
      "execution_count": 68,
      "outputs": [
        {
          "output_type": "execute_result",
          "data": {
            "text/plain": [
              "Empty DataFrame\n",
              "Columns: [valores]\n",
              "Index: []"
            ],
            "text/html": [
              "\n",
              "  <div id=\"df-3f28cf12-e127-4ad5-8746-7c1ccff5e953\">\n",
              "    <div class=\"colab-df-container\">\n",
              "      <div>\n",
              "<style scoped>\n",
              "    .dataframe tbody tr th:only-of-type {\n",
              "        vertical-align: middle;\n",
              "    }\n",
              "\n",
              "    .dataframe tbody tr th {\n",
              "        vertical-align: top;\n",
              "    }\n",
              "\n",
              "    .dataframe thead th {\n",
              "        text-align: right;\n",
              "    }\n",
              "</style>\n",
              "<table border=\"1\" class=\"dataframe\">\n",
              "  <thead>\n",
              "    <tr style=\"text-align: right;\">\n",
              "      <th></th>\n",
              "      <th>valores</th>\n",
              "    </tr>\n",
              "  </thead>\n",
              "  <tbody>\n",
              "  </tbody>\n",
              "</table>\n",
              "</div>\n",
              "      <button class=\"colab-df-convert\" onclick=\"convertToInteractive('df-3f28cf12-e127-4ad5-8746-7c1ccff5e953')\"\n",
              "              title=\"Convert this dataframe to an interactive table.\"\n",
              "              style=\"display:none;\">\n",
              "        \n",
              "  <svg xmlns=\"http://www.w3.org/2000/svg\" height=\"24px\"viewBox=\"0 0 24 24\"\n",
              "       width=\"24px\">\n",
              "    <path d=\"M0 0h24v24H0V0z\" fill=\"none\"/>\n",
              "    <path d=\"M18.56 5.44l.94 2.06.94-2.06 2.06-.94-2.06-.94-.94-2.06-.94 2.06-2.06.94zm-11 1L8.5 8.5l.94-2.06 2.06-.94-2.06-.94L8.5 2.5l-.94 2.06-2.06.94zm10 10l.94 2.06.94-2.06 2.06-.94-2.06-.94-.94-2.06-.94 2.06-2.06.94z\"/><path d=\"M17.41 7.96l-1.37-1.37c-.4-.4-.92-.59-1.43-.59-.52 0-1.04.2-1.43.59L10.3 9.45l-7.72 7.72c-.78.78-.78 2.05 0 2.83L4 21.41c.39.39.9.59 1.41.59.51 0 1.02-.2 1.41-.59l7.78-7.78 2.81-2.81c.8-.78.8-2.07 0-2.86zM5.41 20L4 18.59l7.72-7.72 1.47 1.35L5.41 20z\"/>\n",
              "  </svg>\n",
              "      </button>\n",
              "      \n",
              "  <style>\n",
              "    .colab-df-container {\n",
              "      display:flex;\n",
              "      flex-wrap:wrap;\n",
              "      gap: 12px;\n",
              "    }\n",
              "\n",
              "    .colab-df-convert {\n",
              "      background-color: #E8F0FE;\n",
              "      border: none;\n",
              "      border-radius: 50%;\n",
              "      cursor: pointer;\n",
              "      display: none;\n",
              "      fill: #1967D2;\n",
              "      height: 32px;\n",
              "      padding: 0 0 0 0;\n",
              "      width: 32px;\n",
              "    }\n",
              "\n",
              "    .colab-df-convert:hover {\n",
              "      background-color: #E2EBFA;\n",
              "      box-shadow: 0px 1px 2px rgba(60, 64, 67, 0.3), 0px 1px 3px 1px rgba(60, 64, 67, 0.15);\n",
              "      fill: #174EA6;\n",
              "    }\n",
              "\n",
              "    [theme=dark] .colab-df-convert {\n",
              "      background-color: #3B4455;\n",
              "      fill: #D2E3FC;\n",
              "    }\n",
              "\n",
              "    [theme=dark] .colab-df-convert:hover {\n",
              "      background-color: #434B5C;\n",
              "      box-shadow: 0px 1px 3px 1px rgba(0, 0, 0, 0.15);\n",
              "      filter: drop-shadow(0px 1px 2px rgba(0, 0, 0, 0.3));\n",
              "      fill: #FFFFFF;\n",
              "    }\n",
              "  </style>\n",
              "\n",
              "      <script>\n",
              "        const buttonEl =\n",
              "          document.querySelector('#df-3f28cf12-e127-4ad5-8746-7c1ccff5e953 button.colab-df-convert');\n",
              "        buttonEl.style.display =\n",
              "          google.colab.kernel.accessAllowed ? 'block' : 'none';\n",
              "\n",
              "        async function convertToInteractive(key) {\n",
              "          const element = document.querySelector('#df-3f28cf12-e127-4ad5-8746-7c1ccff5e953');\n",
              "          const dataTable =\n",
              "            await google.colab.kernel.invokeFunction('convertToInteractive',\n",
              "                                                     [key], {});\n",
              "          if (!dataTable) return;\n",
              "\n",
              "          const docLinkHtml = 'Like what you see? Visit the ' +\n",
              "            '<a target=\"_blank\" href=https://colab.research.google.com/notebooks/data_table.ipynb>data table notebook</a>'\n",
              "            + ' to learn more about interactive tables.';\n",
              "          element.innerHTML = '';\n",
              "          dataTable['output_type'] = 'display_data';\n",
              "          await google.colab.output.renderOutput(dataTable, element);\n",
              "          const docLink = document.createElement('div');\n",
              "          docLink.innerHTML = docLinkHtml;\n",
              "          element.appendChild(docLink);\n",
              "        }\n",
              "      </script>\n",
              "    </div>\n",
              "  </div>\n",
              "  "
            ]
          },
          "metadata": {},
          "execution_count": 68
        }
      ]
    },
    {
      "cell_type": "code",
      "source": [
        "print(teste_hipotese_todos(data4_sem_outlier['valores'], data4_sem_outlier ))"
      ],
      "metadata": {
        "colab": {
          "base_uri": "https://localhost:8080/"
        },
        "id": "vo_fB5Mrht-o",
        "outputId": "081d2b58-880d-4e80-a45b-331a288c7da1"
      },
      "execution_count": 69,
      "outputs": [
        {
          "output_type": "stream",
          "name": "stdout",
          "text": [
            "\n",
            "orm-nP-Value: \tKstestResult(statistic=0.15938066493993716, pvalue=0.0, statistic_location=0.07559653580949806, statistic_sign=-1)\n",
            " \\expon-nP-Value: \tKstestResult(statistic=0.07547433774015426, pvalue=0.0, statistic_location=0.2445297848746938, statistic_sign=-1)\n",
            " \\lognorm-nP-Value: \tKstestResult(statistic=0.008855904487301558, pvalue=3.584246228568558e-07, statistic_location=1.84984226603928, statistic_sign=-1)\n",
            "\n"
          ]
        }
      ]
    },
    {
      "cell_type": "markdown",
      "source": [
        "# Função hipóteses/aderência"
      ],
      "metadata": {
        "id": "PQ8WwxNg4qaT"
      }
    },
    {
      "cell_type": "code",
      "source": [
        "from os import sep\n",
        "import pandas as pd\n",
        "import random\n",
        "import numpy as np\n",
        "from google.colab import files\n",
        "\n",
        "### Plots\n",
        "## Boxplot\n",
        "import seaborn as sns\n",
        "import matplotlib.pyplot as plt\n",
        "\n",
        "### Avaliando diferentes distribuições\n",
        "from scipy.stats import kstest\n",
        "import scipy.stats as st"
      ],
      "metadata": {
        "id": "QijuUWTh4po3"
      },
      "execution_count": 157,
      "outputs": []
    },
    {
      "cell_type": "code",
      "source": [
        "filename_dado1 = '/content/data1.csv'\n",
        "filename_dado2 = '/content/data2.csv'\n",
        "filename_dado3 = '/content/data3.csv'\n",
        "filename_dado4 = '/content/data4.csv'"
      ],
      "metadata": {
        "id": "XCde7iuP5M8s"
      },
      "execution_count": 158,
      "outputs": []
    },
    {
      "cell_type": "code",
      "source": [
        "def dados(caminho_dado, quantile, valor_sem_outlier):\n",
        "  filename = caminho_dado\n",
        "  data = pd.read_csv(filename)\n",
        "\n",
        "  media = data.mean()\n",
        "  mediana = data.median()\n",
        "  moda = data.mode()\n",
        "  minino = data.min()\n",
        "  maximo = data.max()\n",
        "\n",
        "  print(\"------------------------------\\n\",\n",
        "        \"Medidas de posição: \\n\\n\"\n",
        "        \"média:\", str(media), \"\\n\\n\",\n",
        "        \"mediana:\", str(mediana), \"\\n\\n\",\n",
        "        \"moda:\", str(moda), \"\\n\\n\",\n",
        "        \"minino:\", str(minino), \"\\n\\n\",\n",
        "        \"maximo:\", str(maximo), \"\\n\"\n",
        "        \"------------------------------\"\n",
        "  )\n",
        "\n",
        "  #medidas de dispensão\n",
        "  desvio_padrao = data.std()\n",
        "  variancia = data.var()\n",
        "  print(\"------------------------------\\n\",\n",
        "        \"medidas de dispensão:\\n\",\n",
        "        \"desvio padrão:\", str(desvio_padrao), \"\\n\\n\",\n",
        "        \"variancia:\", str(mediana), \"\\n\\n\",\n",
        "        \"------------------------------\\n\"\n",
        "  )\n",
        "\n",
        "  #coeficiente de assimetria\n",
        "  assimetria = data.skew()\n",
        "  print(\"------------------------------\\n\",\n",
        "        \"coeficiente de assimetria: \\n\",\n",
        "        assimetria, \"\\n\",\n",
        "        \"------------------------------\\n\"\n",
        "  )\n",
        "\n",
        "  # Remover outlier\n",
        "  q = data[\"valores\"].quantile(quantile)\n",
        "\n",
        "  data_sem_outlier = data[data[\"valores\"] < q]\n",
        "  data[data['valores']== valor_sem_outlier]\n",
        "  data_sem_outlier[data_sem_outlier['valores']== valor_sem_outlier]\n",
        "\n",
        "  def hipotese():\n",
        "    # Normal\n",
        "    stat, p_val_norm = kstest(data_sem_outlier['valores'], 'norm', st.norm.fit(data_sem_outlier)) \n",
        "\n",
        "    # Exponential\n",
        "    stat, p_val_expon = kstest(data_sem_outlier['valores'], 'expon', st.expon.fit(data_sem_outlier))\n",
        "\n",
        "    # LogNormal\n",
        "    stat, p_val_lognorm = kstest(data_sem_outlier['valores'], \"lognorm\", st.lognorm.fit(data_sem_outlier))\n",
        "\n",
        "    print(\"------------------------------\\n\")\n",
        "    print(\"Distribuição Normal\", p_val_norm, \"\\n\")\n",
        "    print(\"Distribuição Exponencial\", p_val_expon, \"\\n\")\n",
        "    print(\"Distribuição LogNormal\", p_val_lognorm, \"\\n\")\n",
        "    print(\"------------------------------\\n\")\n",
        "\n",
        "    if(p_val_norm < p_val_expon and p_val_norm < p_val_lognorm):\n",
        "      print(\"Distribuição Normal é adequado\", p_val_norm)\n",
        "    elif(p_val_expon < p_val_norm and p_val_expon < p_val_lognorm):\n",
        "      print(\"Distribuição Exponencial é adequado\", p_val_expon)\n",
        "    elif(p_val_lognorm < p_val_norm and p_val_lognorm < p_val_norm):\n",
        "      print(\"Distribuição LogNormal é adequado\", p_val_lognorm)\n",
        "    else:\n",
        "      print(\"Valores iguais, verifique o que se adéqua melhor.\")\n",
        "\n",
        "  hipotese()\n"
      ],
      "metadata": {
        "id": "gnhqb5ZmipX5"
      },
      "execution_count": 159,
      "outputs": []
    },
    {
      "cell_type": "code",
      "source": [
        "dados(filename_dado1, 0.99, -1)"
      ],
      "metadata": {
        "colab": {
          "base_uri": "https://localhost:8080/"
        },
        "id": "XZU-gzjpi5GP",
        "outputId": "a0a63902-211f-424c-f912-6d9d30cf0d35"
      },
      "execution_count": 163,
      "outputs": [
        {
          "output_type": "stream",
          "name": "stdout",
          "text": [
            "------------------------------\n",
            " Medidas de posição: \n",
            "\n",
            "média: valores    8.987255\n",
            "dtype: float64 \n",
            "\n",
            " mediana: valores    8.987193\n",
            "dtype: float64 \n",
            "\n",
            " moda:          valores\n",
            "0      -0.016023\n",
            "1       0.525653\n",
            "2       0.920446\n",
            "3       0.936869\n",
            "4       1.094549\n",
            "...          ...\n",
            "99995  17.465660\n",
            "99996  17.541291\n",
            "99997  17.549132\n",
            "99998  17.620575\n",
            "99999  18.264037\n",
            "\n",
            "[100000 rows x 1 columns] \n",
            "\n",
            " minino: valores   -0.016023\n",
            "dtype: float64 \n",
            "\n",
            " maximo: valores    18.264037\n",
            "dtype: float64 \n",
            "------------------------------\n",
            "------------------------------\n",
            " medidas de dispensão:\n",
            " desvio padrão: valores    2.002652\n",
            "dtype: float64 \n",
            "\n",
            " variancia: valores    8.987193\n",
            "dtype: float64 \n",
            "\n",
            " ------------------------------\n",
            "\n",
            "------------------------------\n",
            " coeficiente de assimetria: \n",
            " valores    0.001163\n",
            "dtype: float64 \n",
            " ------------------------------\n",
            "\n",
            "------------------------------\n",
            "\n",
            "Distribuição Normal 1.2732895302308867e-07 \n",
            "\n",
            "Distribuição Exponencial 0.0 \n",
            "\n",
            "Distribuição LogNormal 1.1531776559435923e-08 \n",
            "\n",
            "------------------------------\n",
            "\n",
            "Distribuição Exponencial é adequado 0.0\n"
          ]
        }
      ]
    },
    {
      "cell_type": "code",
      "source": [
        "dados(filename_dado2, 0.99, -1)"
      ],
      "metadata": {
        "colab": {
          "base_uri": "https://localhost:8080/"
        },
        "id": "_lk-vzs97Mi7",
        "outputId": "6a870bd2-60a8-4bef-88f0-faadd2ac18e4"
      },
      "execution_count": 164,
      "outputs": [
        {
          "output_type": "stream",
          "name": "stdout",
          "text": [
            "------------------------------\n",
            " Medidas de posição: \n",
            "\n",
            "média: valores    11.001963\n",
            "dtype: float64 \n",
            "\n",
            " mediana: valores    10.692913\n",
            "dtype: float64 \n",
            "\n",
            " moda:          valores\n",
            "0      10.000000\n",
            "1      10.000007\n",
            "2      10.000008\n",
            "3      10.000028\n",
            "4      10.000041\n",
            "...          ...\n",
            "99995  21.311255\n",
            "99996  22.164814\n",
            "99997  22.196457\n",
            "99998  22.215119\n",
            "99999  22.812852\n",
            "\n",
            "[100000 rows x 1 columns] \n",
            "\n",
            " minino: valores    10.0\n",
            "dtype: float64 \n",
            "\n",
            " maximo: valores    22.812852\n",
            "dtype: float64 \n",
            "------------------------------\n",
            "------------------------------\n",
            " medidas de dispensão:\n",
            " desvio padrão: valores    1.001969\n",
            "dtype: float64 \n",
            "\n",
            " variancia: valores    10.692913\n",
            "dtype: float64 \n",
            "\n",
            " ------------------------------\n",
            "\n",
            "------------------------------\n",
            " coeficiente de assimetria: \n",
            " valores    2.025278\n",
            "dtype: float64 \n",
            " ------------------------------\n",
            "\n",
            "------------------------------\n",
            "\n",
            "Distribuição Normal 0.0 \n",
            "\n",
            "Distribuição Exponencial 2.279467334657018e-13 \n",
            "\n",
            "Distribuição LogNormal 1.3502968980246459e-129 \n",
            "\n",
            "------------------------------\n",
            "\n",
            "Distribuição Normal é adequado 0.0\n"
          ]
        }
      ]
    },
    {
      "cell_type": "code",
      "source": [
        "dados(filename_dado3, 0.99, -1)"
      ],
      "metadata": {
        "colab": {
          "base_uri": "https://localhost:8080/"
        },
        "id": "AxlDfWP_7NzW",
        "outputId": "fdb20a86-c2a5-4a49-e085-96cc3a978e0e"
      },
      "execution_count": 165,
      "outputs": [
        {
          "output_type": "stream",
          "name": "stdout",
          "text": [
            "------------------------------\n",
            " Medidas de posição: \n",
            "\n",
            "média: valores    12.99637\n",
            "dtype: float64 \n",
            "\n",
            " mediana: valores    12.986897\n",
            "dtype: float64 \n",
            "\n",
            " moda:          valores\n",
            "0       8.000096\n",
            "1       8.000113\n",
            "2       8.000193\n",
            "3       8.000549\n",
            "4       8.000616\n",
            "...          ...\n",
            "99995  17.999744\n",
            "99996  17.999797\n",
            "99997  17.999856\n",
            "99998  17.999933\n",
            "99999  17.999981\n",
            "\n",
            "[100000 rows x 1 columns] \n",
            "\n",
            " minino: valores    8.000096\n",
            "dtype: float64 \n",
            "\n",
            " maximo: valores    17.999981\n",
            "dtype: float64 \n",
            "------------------------------\n",
            "------------------------------\n",
            " medidas de dispensão:\n",
            " desvio padrão: valores    2.889233\n",
            "dtype: float64 \n",
            "\n",
            " variancia: valores    12.986897\n",
            "dtype: float64 \n",
            "\n",
            " ------------------------------\n",
            "\n",
            "------------------------------\n",
            " coeficiente de assimetria: \n",
            " valores    0.007441\n",
            "dtype: float64 \n",
            " ------------------------------\n",
            "\n",
            "------------------------------\n",
            "\n",
            "Distribuição Normal 3.423059105083818e-293 \n",
            "\n",
            "Distribuição Exponencial 0.0 \n",
            "\n",
            "Distribuição LogNormal 1.1869618771085998e-304 \n",
            "\n",
            "------------------------------\n",
            "\n",
            "Distribuição Exponencial é adequado 0.0\n"
          ]
        }
      ]
    },
    {
      "cell_type": "code",
      "source": [
        "dados(filename_dado4, 0.99, -1)"
      ],
      "metadata": {
        "colab": {
          "base_uri": "https://localhost:8080/"
        },
        "id": "ErpBemkS7POh",
        "outputId": "63e3da04-0d80-420f-e96a-14a9924d583f"
      },
      "execution_count": 166,
      "outputs": [
        {
          "output_type": "stream",
          "name": "stdout",
          "text": [
            "------------------------------\n",
            " Medidas de posição: \n",
            "\n",
            "média: valores    1.567531\n",
            "dtype: float64 \n",
            "\n",
            " mediana: valores    1.001987\n",
            "dtype: float64 \n",
            "\n",
            " moda:          valores\n",
            "0       0.019546\n",
            "1       0.020648\n",
            "2       0.023136\n",
            "3       0.025058\n",
            "4       0.026266\n",
            "...          ...\n",
            "99995  49.793112\n",
            "99996  52.485301\n",
            "99997  53.766335\n",
            "99998  60.772040\n",
            "99999  61.666675\n",
            "\n",
            "[100000 rows x 1 columns] \n",
            "\n",
            " minino: valores    0.019546\n",
            "dtype: float64 \n",
            "\n",
            " maximo: valores    61.666675\n",
            "dtype: float64 \n",
            "------------------------------\n",
            "------------------------------\n",
            " medidas de dispensão:\n",
            " desvio padrão: valores    1.899995\n",
            "dtype: float64 \n",
            "\n",
            " variancia: valores    1.001987\n",
            "dtype: float64 \n",
            "\n",
            " ------------------------------\n",
            "\n",
            "------------------------------\n",
            " coeficiente de assimetria: \n",
            " valores    5.472745\n",
            "dtype: float64 \n",
            " ------------------------------\n",
            "\n",
            "------------------------------\n",
            "\n",
            "Distribuição Normal 0.0 \n",
            "\n",
            "Distribuição Exponencial 0.0 \n",
            "\n",
            "Distribuição LogNormal 3.584246228568558e-07 \n",
            "\n",
            "------------------------------\n",
            "\n",
            "Valores iguais, verifique o que se adéqua melhor.\n"
          ]
        }
      ]
    }
  ]
}